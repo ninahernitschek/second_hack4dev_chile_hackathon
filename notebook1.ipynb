{
 "cells": [
  {
   "cell_type": "markdown",
   "metadata": {},
   "source": [
    "# Notebook 1: Introduction\n",
    "\n",
    "Welcome! The main goal of this notebook is to provide a clear understanding of the problem at hand to prepare for the hackathon.\n",
    "\n"
   ]
  },
  {
   "cell_type": "markdown",
   "metadata": {},
   "source": [
    "## Problem Description"
   ]
  },
  {
   "cell_type": "markdown",
   "metadata": {},
   "source": [
    "Astronomical data are gathered by either taking images, or taking spectra.\n",
    "We will work here with images.\n",
    "In many cases, when images are taken, we want to know: What are the individual objects in those images?\n",
    "This process of identifying and measuring objects within astronomical images is known as **source extraction**.\n"
   ]
  },
  {
   "cell_type": "markdown",
   "metadata": {},
   "source": [
    "## Astronomical Data\n",
    "\n",
    "Astronomical images (and catalogs for the that matter) are most often stored in FITS format, which stands for [Flexible Image Transport System](https://en.wikipedia.org/wiki/FITS). There are several programs for opening and examining FITS images. Probably the easiest one to install would be the [SAOImage DS9 Astronomical Data Visualization Application](http://ds9.si.edu/site/Download.html).\n",
    "\n",
    "We can also load FITS images into programs we write on our own. This is what we will do during this hackathon: writing programs that can process FITS files.\n",
    "\n",
    "Where can we obtain astronomical data?\n",
    "\n",
    "Usually, astronomical data is openly available. Three example FITS files are provided with the material for the hackathon.\n",
    "You can find more by for example using the [SkyView](http://skyview.gsfc.nasa.gov/current/cgi/query.pl) virtual observatory page. Go to the page and enter the name of an object you know (for example \"coma cluster\") in the \"Coordinates or Source\" field, then under the Optical:DSS: section select the \"DSS1 Red\" and press submit. This should open another page which has an image that looks similar to this:\n",
    "\n",
    "![title](img/skv24627664673_1.jpg)   \n",
    "\n",
    "To access the data, download and store the FITS file associated with the image (it should say \"FITS\" below the image)."
   ]
  },
  {
   "cell_type": "code",
   "execution_count": null,
   "metadata": {},
   "outputs": [],
   "source": []
  },
  {
   "cell_type": "markdown",
   "metadata": {},
   "source": [
    "## The goal of this Hackathon\n",
    "\n",
    "Develop code (an image processing pipeline) that can extract astronomical sources from images. Measure their properties.\n",
    "For this, apply a variety of image-processing techniques guided by a tutorial. The goal is to find techniques that successful extract sources. At the end of the Hackathon, each team will present their solution.\n"
   ]
  },
  {
   "cell_type": "markdown",
   "metadata": {},
   "source": [
    "## Prizes\n",
    "\n",
    "At the last day of the hackathon, every team will present their work at their local events in front of local organizers and peers. 🎤 Each team will have **6 minutes** to present their work. The winning team will receive a prize.\n",
    "\n",
    "Teams will be judged based on the following criteria:\n",
    "\n",
    "1. **Clarity of Problem Description**\n",
    "2. **Novelty**\n",
    "3. **Critical Thinking**\n",
    "4. **Use of Graphics**\n",
    "5. **Presentation Skills**\n",
    "6. **Team Collaboration**\n",
    "\n",
    "**Note**: All team members must participate in the presentation, sharing different parts of it among themselves. For example, one member can describe the problem, another can discuss the solution, and so on.\n",
    "\n",
    "Best of luck with the hackathon challenge! 🎉 \n",
    "\n",
    " <hr style=\"border:2px solid gray\">\n",
    " \n"
   ]
  },
  {
   "cell_type": "markdown",
   "metadata": {},
   "source": [
    "\n",
    "\n",
    "\n",
    "\n"
   ]
  },
  {
   "cell_type": "markdown",
   "metadata": {},
   "source": [
    "\n",
    "\n",
    "\n",
    "\n"
   ]
  },
  {
   "cell_type": "markdown",
   "metadata": {},
   "source": [
    "\n",
    "\n",
    "\n",
    "\n"
   ]
  },
  {
   "cell_type": "markdown",
   "metadata": {},
   "source": [
    "\n",
    "\n",
    "\n",
    "\n"
   ]
  }
 ],
 "metadata": {
  "kernelspec": {
   "display_name": "Python 3 (ipykernel)",
   "language": "python",
   "name": "python3"
  },
  "language_info": {
   "codemirror_mode": {
    "name": "ipython",
    "version": 3
   },
   "file_extension": ".py",
   "mimetype": "text/x-python",
   "name": "python",
   "nbconvert_exporter": "python",
   "pygments_lexer": "ipython3",
   "version": "3.12.3"
  }
 },
 "nbformat": 4,
 "nbformat_minor": 4
}
