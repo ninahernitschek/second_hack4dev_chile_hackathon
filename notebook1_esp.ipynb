{
 "cells": [
  {
   "cell_type": "markdown",
   "metadata": {},
   "source": [
    "# Notebook 1: Introducción\n",
    "\n",
    "¡Bienvenido! El objetivo principal de este *Jupyter notebook* es facilitar una comprensión clara del problema que nos ocupa para prepararnos para el hackathon.\n",
    "\n",
    "\n"
   ]
  },
  {
   "cell_type": "markdown",
   "metadata": {},
   "source": [
    "## Descripción del problema"
   ]
  },
  {
   "cell_type": "markdown",
   "metadata": {},
   "source": [
    "Los datos astronómicos se recopilan mediante la obtención de imágenes o espectros.\n",
    "Aquí trabajaremos con imágenes.\n",
    "En muchos casos, cuando se obtienen imágenes, queremos saber: ¿qué objetos individuales hay en esas imágenes?\n",
    "Este proceso de identificación y medición de objetos dentro de imágenes astronómicas se conoce como **extracción de fuentes**."
   ]
  },
  {
   "cell_type": "markdown",
   "metadata": {},
   "source": [
    "## Datos astronómicos\n",
    "\n",
    "Las imágenes astronómicas (y los catálogos, por cierto) se almacenan con mayor frecuencia en formato FITS, que significa [Flexible Image Transport System](https://en.wikipedia.org/wiki/FITS). Existen varios programas para abrir y examinar imágenes FITS. Probablemente, el más fácil de instalar sea la [aplicación de visualización de datos astronómicos SAOImage DS9](http://ds9.si.edu/site/Download.html).\n",
    "\n",
    "También podemos cargar imágenes FITS en programas que escribimos nosotros mismos. Esto es lo que haremos durante este hackatón: escribir programas que puedan procesar archivos FITS.\n",
    "\n",
    "\n",
    "¿Dónde podemos obtener datos astronómicos?\n",
    "\n",
    "Por lo general, los datos astronómicos están disponibles de forma abierta. Se proporcionan tres archivos FITS de ejemplo con el material para el hackatón.\n",
    "Puedes encontrar más, utilizando la página del observatorio virtual [SkyView](http://skyview.gsfc.nasa.gov/current/cgi/query.pl). Vaya a la página e introduzca el nombre de un objeto que conozca (por ejemplo, «coma cluster») en el campo Coordinates or Source», luego, en la sección «Optical:DSS:», seleccione «DSS1 Red» y pulse enviar. Se abrirá otra página con una imagen similar a esta:\n",
    "\n",
    "![título](img/skv24627664673_1.jpg)   \n",
    "\n",
    "Para acceder a los datos, descargue y guarde el archivo FITS asociado a la imagen (debería aparecer «FITS» debajo de la imagen)."
   ]
  },
  {
   "cell_type": "code",
   "execution_count": null,
   "metadata": {},
   "outputs": [],
   "source": []
  },
  {
   "cell_type": "markdown",
   "metadata": {},
   "source": [
    "## El objetivo de este Hackathon\n",
    "\n",
    "Desarrollar código en Python para procesamiento de imágenes que permita extraer fuentes astronómicas de imágenes. Medir sus propiedades.\n",
    "Para ello, aplicar diversas técnicas de procesamiento de imágenes guiadas por un tutorial. El objetivo es encontrar técnicas que permitan extraer fuentes con éxito. Al final del hackatón, cada equipo presentará su solución."
   ]
  },
  {
   "cell_type": "markdown",
   "metadata": {},
   "source": [
    "## Premios\n",
    "\n",
    "El último día del hackatón, cada equipo presentará su trabajo en sus eventos locales ante los organizadores locales y sus compañeros. 🎤 Cada equipo dispondrá de **6 minutos** para presentar su trabajo. El equipo ganador de hackatón recibirá un premio.\n",
    "\n",
    "Los equipos serán evaluados según los siguientes criterios:\n",
    "\n",
    "1. **Claridad en la descripción del problema**\n",
    "2. **Novedad**\n",
    "3. **Pensamiento crítico**\n",
    "4. **Uso de gráficos**\n",
    "5. **Habilidades de presentación**\n",
    "6. **Colaboración en equipo**\n",
    "\n",
    "**Nota**: Todos los miembros del equipo deben participar en la presentación, repartiéndose las diferentes partes entre ellos. Por ejemplo, un miembro puede describir el problema, otro puede discutir la solución, y así sucesivamente.\n",
    "\n",
    "¡Mucha suerte con el desafío del hackatón! 🎉\n",
    "\n",
    " <hr style=\"border:2px solid gray\">\n",
    " \n"
   ]
  },
  {
   "cell_type": "markdown",
   "metadata": {},
   "source": [
    "\n",
    "\n",
    "\n",
    "\n"
   ]
  },
  {
   "cell_type": "markdown",
   "metadata": {},
   "source": [
    "\n",
    "\n",
    "\n",
    "\n"
   ]
  },
  {
   "cell_type": "markdown",
   "metadata": {},
   "source": [
    "\n",
    "\n",
    "\n",
    "\n"
   ]
  },
  {
   "cell_type": "markdown",
   "metadata": {},
   "source": [
    "\n",
    "\n",
    "\n",
    "\n"
   ]
  }
 ],
 "metadata": {
  "kernelspec": {
   "display_name": "Python 3 (ipykernel)",
   "language": "python",
   "name": "python3"
  },
  "language_info": {
   "codemirror_mode": {
    "name": "ipython",
    "version": 3
   },
   "file_extension": ".py",
   "mimetype": "text/x-python",
   "name": "python",
   "nbconvert_exporter": "python",
   "pygments_lexer": "ipython3",
   "version": "3.12.3"
  }
 },
 "nbformat": 4,
 "nbformat_minor": 4
}
